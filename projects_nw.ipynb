{
  "nbformat": 4,
  "nbformat_minor": 0,
  "metadata": {
    "colab": {
      "provenance": [],
      "cell_execution_strategy": "setup",
      "mount_file_id": "1yjrlXPhsK6u8MD0O4U7ovEobVagr4SPE",
      "authorship_tag": "ABX9TyNvkc1AlwsQUK4PfrtFlDYr",
      "include_colab_link": true
    },
    "kernelspec": {
      "name": "python3",
      "display_name": "Python 3"
    },
    "language_info": {
      "name": "python"
    }
  },
  "cells": [
    {
      "cell_type": "markdown",
      "metadata": {
        "id": "view-in-github",
        "colab_type": "text"
      },
      "source": [
        "<a href=\"https://colab.research.google.com/github/sebasprochino/Midia_music/blob/main/projects_nw.ipynb\" target=\"_parent\"><img src=\"https://colab.research.google.com/assets/colab-badge.svg\" alt=\"Open In Colab\"/></a>"
      ]
    },
    {
      "cell_type": "markdown",
      "source": [],
      "metadata": {
        "id": "a_liM4jQHVuL"
      }
    },
    {
      "cell_type": "markdown",
      "source": [],
      "metadata": {
        "id": "Prhr-hNkHw3q"
      }
    },
    {
      "cell_type": "code",
      "source": [],
      "metadata": {
        "id": "pMTSgIjfO2Ly"
      },
      "execution_count": 1,
      "outputs": []
    },
    {
      "cell_type": "markdown",
      "source": [],
      "metadata": {
        "id": "gfQkM-tJ_GZa"
      }
    },
    {
      "cell_type": "code",
      "execution_count": null,
      "metadata": {
        "colab": {
          "base_uri": "https://localhost:8080/"
        },
        "id": "-z81HiPz-jMI",
        "outputId": "6b8caab0-ab2a-4863-c158-b0b0b8a14ba1"
      },
      "outputs": [
        {
          "output_type": "stream",
          "name": "stdout",
          "text": [
            "Ingrese el nombre del proyecto: MusicGene\n",
            "¡Proyecto 'MusicGene' creado con éxito!\n"
          ]
        }
      ],
      "source": [
        "import os\n",
        "\n",
        "def crear_estructura_proyecto(nombre_proyecto, ubicacion='.'):\n",
        "    \"\"\"\n",
        "    Crea la estructura de directorios básica para un proyecto Python.\n",
        "\n",
        "    Args:\n",
        "        nombre_proyecto (str): Nombre del proyecto.\n",
        "        ubicacion (str, optional): Ruta donde se creará el proyecto. Por defecto, se crea en el directorio actual.\n",
        "    \"\"\"\n",
        "\n",
        "    ruta_proyecto = os.path.join(ubicacion, nombre_proyecto)\n",
        "\n",
        "    # Crear directorio principal del proyecto\n",
        "    os.makedirs(ruta_proyecto, exist_ok=True)\n",
        "\n",
        "    # Crear carpetas internas\n",
        "    carpetas_internas = ['mi_proyecto', 'docs', 'tests', 'mi_proyecto/models']\n",
        "    for carpeta in carpetas_internas:\n",
        "        os.makedirs(os.path.join(ruta_proyecto, carpeta), exist_ok=True)\n",
        "\n",
        "    # Crear archivos básicos\n",
        "    archivos_basicos = {\n",
        "        'README.md': ruta_proyecto,\n",
        "        'requirements.txt': ruta_proyecto,\n",
        "        'setup.py': ruta_proyecto,\n",
        "        '__init__.py': os.path.join(ruta_proyecto, 'mi_proyecto'),\n",
        "        'main.py': os.path.join(ruta_proyecto, 'mi_proyecto'),\n",
        "        'utils.py': os.path.join(ruta_proyecto, 'mi_proyecto'),\n",
        "        '__init__.py': os.path.join(ruta_proyecto, 'mi_proyecto', 'models'),\n",
        "        '__init__.py': os.path.join(ruta_proyecto, 'tests')\n",
        "    }\n",
        "    for archivo, ruta in archivos_basicos.items():\n",
        "        with open(os.path.join(ruta, archivo), 'w') as f:\n",
        "            pass  # Creamos archivos vacíos por ahora\n",
        "\n",
        "if __name__ == \"__main__\":\n",
        "    nombre_proyecto = input(\"Ingrese el nombre del proyecto: \")\n",
        "    crear_estructura_proyecto(nombre_proyecto)\n",
        "    print(f\"¡Proyecto '{nombre_proyecto}' creado con éxito!\")\n"
      ]
    },
    {
      "cell_type": "code",
      "source": [
        "touch .gitignore\n"
      ],
      "metadata": {
        "colab": {
          "base_uri": "https://localhost:8080/",
          "height": 141
        },
        "id": "Q-MP0TEmdiXi",
        "outputId": "1dcd62a8-f9e3-4771-f981-d3c4f63ee556"
      },
      "execution_count": 2,
      "outputs": [
        {
          "output_type": "error",
          "ename": "NameError",
          "evalue": "name 'touch' is not defined",
          "traceback": [
            "\u001b[0;31m---------------------------------------------------------------------------\u001b[0m",
            "\u001b[0;31mNameError\u001b[0m                                 Traceback (most recent call last)",
            "\u001b[0;32m<ipython-input-2-1a8e7bcd2eb2>\u001b[0m in \u001b[0;36m<cell line: 1>\u001b[0;34m()\u001b[0m\n\u001b[0;32m----> 1\u001b[0;31m \u001b[0mtouch\u001b[0m \u001b[0;34m.\u001b[0m\u001b[0mgitignore\u001b[0m\u001b[0;34m\u001b[0m\u001b[0;34m\u001b[0m\u001b[0m\n\u001b[0m",
            "\u001b[0;31mNameError\u001b[0m: name 'touch' is not defined"
          ]
        }
      ]
    },
    {
      "cell_type": "markdown",
      "source": [],
      "metadata": {
        "id": "2Pg4G-X4_jxA"
      }
    },
    {
      "cell_type": "code",
      "source": [],
      "metadata": {
        "id": "ljx507l9-7dp"
      },
      "execution_count": null,
      "outputs": []
    },
    {
      "cell_type": "markdown",
      "source": [
        "# Nueva sección"
      ],
      "metadata": {
        "id": "4E3s_MgQGGrA"
      }
    }
  ]
}